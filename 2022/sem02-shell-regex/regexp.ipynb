{
  "nbformat": 4,
  "nbformat_minor": 0,
  "metadata": {
    "kernelspec": {
      "display_name": "Python 3",
      "language": "python",
      "name": "python3"
    },
    "language_info": {
      "codemirror_mode": {
        "name": "ipython",
        "version": 3
      },
      "file_extension": ".py",
      "mimetype": "text/x-python",
      "name": "python",
      "nbconvert_exporter": "python",
      "pygments_lexer": "ipython3",
      "version": "3.8.5"
    },
    "colab": {
      "provenance": [],
      "collapsed_sections": []
    }
  },
  "cells": [
    {
      "cell_type": "markdown",
      "metadata": {
        "id": "ZoNn3t4X80Sy"
      },
      "source": [
        "# Регулярные выражения\n"
      ]
    },
    {
      "cell_type": "markdown",
      "metadata": {
        "id": "QhY-Zlel80S8"
      },
      "source": [
        "## Введение"
      ]
    },
    {
      "cell_type": "markdown",
      "metadata": {
        "id": "N4CNDqsu80S9"
      },
      "source": [
        "В реальной жизни мы постоянно сталкиваемся с данными в текстовом виде. Часто нужно вычленить некоторые данные из файла и обработать их. Но как эффективнее это сделать? Можно писать длинную программу, манипулярующую строковым функциями, но есть и другое решение."
      ]
    },
    {
      "cell_type": "markdown",
      "metadata": {
        "id": "US_Yk1Q880S_"
      },
      "source": [
        "Регулярное выражение -- строка-шаблон, представляющая соой формальную запись для множества строк. (credits to @poldnev). То есть мы хотим описать нужные нам строки в некотором формате и потом их как-то вычленить и преобразовать. "
      ]
    },
    {
      "cell_type": "markdown",
      "metadata": {
        "id": "dwdUh4jf80TA"
      },
      "source": [
        "Далее в примерах мы будем использовать Python. Детали реализации в других языках могут несколько отличаться, но не очень сильно благодаря стандарту POSIX. Для начала импортируем библиотеку для работы с регулярными выражениями."
      ]
    },
    {
      "cell_type": "code",
      "metadata": {
        "colab": {
          "base_uri": "https://localhost:8080/"
        },
        "id": "S8XL6gb--dtL",
        "outputId": "1c5f00e9-04cc-4eb5-b6c9-b46d3b3e3285"
      },
      "source": [
        "!rm -rf regexp\n",
        "!git clone https://github.com/Khabutdinov-Arslan/regexp.git\n",
        "!cd regexp"
      ],
      "execution_count": null,
      "outputs": [
        {
          "output_type": "stream",
          "name": "stdout",
          "text": [
            "Cloning into 'regexp'...\n",
            "remote: Enumerating objects: 7, done.\u001b[K\n",
            "remote: Counting objects: 100% (7/7), done.\u001b[K\n",
            "remote: Compressing objects: 100% (5/5), done.\u001b[K\n",
            "remote: Total 7 (delta 0), reused 4 (delta 0), pack-reused 0\u001b[K\n",
            "Unpacking objects: 100% (7/7), done.\n"
          ]
        }
      ]
    },
    {
      "cell_type": "code",
      "metadata": {
        "id": "FXcYq3zx80TB"
      },
      "source": [
        "import re"
      ],
      "execution_count": null,
      "outputs": []
    },
    {
      "cell_type": "markdown",
      "metadata": {
        "id": "NQskkbHu80TD"
      },
      "source": [
        "Полный список методов для работы с регулярными выражениями можно найти в документации, мы же в учебных целях ограничимся следующими:\n",
        "* re.**search**(pattern, string) вовзвращает первое вхождение выражения в строку\n",
        "* re.**findall**(pattern, string) возвращает список вхождений выражения в строку\n",
        "* re.**sub**(pattern, replace, string) заменяет все вхождение выражения в строку на новое выражение, возвращает изменённую строку"
      ]
    },
    {
      "cell_type": "markdown",
      "metadata": {
        "id": "zL6_aFQ080TD"
      },
      "source": [
        "### Пример: Лог"
      ]
    },
    {
      "cell_type": "markdown",
      "metadata": {
        "id": "2RQ-TR9n80TE"
      },
      "source": [
        "Пусть у нас есть выхлоп некоторой команды. Мы хотим вычленить из него адреса реплик."
      ]
    },
    {
      "cell_type": "code",
      "metadata": {
        "scrolled": true,
        "colab": {
          "base_uri": "https://localhost:8080/"
        },
        "id": "71OHQ9Cg80TF",
        "outputId": "90afefa6-1ec1-466c-e7cd-494ad01014e6"
      },
      "source": [
        "!cat regexp/fsck.txt"
      ],
      "execution_count": null,
      "outputs": [
        {
          "output_type": "stream",
          "name": "stdout",
          "text": [
            "FSCK started by pd2020149 (auth:SIMPLE) from /93.175.29.107 at Thu Dec 31 16:49:53 UTC 2020\n",
            "\n",
            "Block Id: blk_1073971176\n",
            "Block belongs to: /data/wiki/en_articles_part/articles-part\n",
            "No. of Expected Replica: 3\n",
            "No. of live Replica: 3\n",
            "No. of excess Replica: 0\n",
            "No. of stale Replica: 0\n",
            "No. of decommissioned Replica: 1\n",
            "No. of decommissioning Replica: 0\n",
            "No. of corrupted Replica: 0\n",
            "Block replica on datanode/rack: mipt-node01.atp-fivt.org/default is HEALTHY\n",
            "Block replica on datanode/rack: mipt-node09.atp-fivt.org/default is DECOMMISSIONED\n",
            "Block replica on datanode/rack: mipt-node07.atp-fivt.org/default is HEALTHY\n",
            "Block replica on datanode/rack: mipt-node03.atp-fivt.org/default is HEALTHY\n"
          ]
        }
      ]
    },
    {
      "cell_type": "markdown",
      "metadata": {
        "id": "dkCDbVt680TH"
      },
      "source": [
        "Попробуем решить задачу в лоб известными нам инструментами -- строковыми функциями."
      ]
    },
    {
      "cell_type": "code",
      "metadata": {
        "colab": {
          "base_uri": "https://localhost:8080/"
        },
        "id": "Fgo9XP9_80TJ",
        "outputId": "75ed9a10-4e1c-462d-f62c-de60cbe18c09"
      },
      "source": [
        "log = \"\"\n",
        "with open('regexp/fsck.txt', 'r') as log_file:\n",
        "  log = log_file.read()\n",
        "address = log.split('\\n')[-2].split(' ')[-3].split('/')\n",
        "print(address[0])"
      ],
      "execution_count": null,
      "outputs": [
        {
          "output_type": "stream",
          "name": "stdout",
          "text": [
            "mipt-node03.atp-fivt.org\n"
          ]
        }
      ]
    },
    {
      "cell_type": "markdown",
      "metadata": {
        "id": "puXAYdDG80TK"
      },
      "source": [
        "Какие есть проблемы?\n",
        "* Читаемость кода\n",
        "* Сложность модификации\n",
        "* Сильно полагается на валидность данных"
      ]
    },
    {
      "cell_type": "markdown",
      "metadata": {
        "id": "qUhMqay380TK"
      },
      "source": [
        "Решим ту же задачу с помощью регулярных выражений: "
      ]
    },
    {
      "cell_type": "code",
      "metadata": {
        "colab": {
          "base_uri": "https://localhost:8080/"
        },
        "id": "RcRr3JWa80TK",
        "outputId": "f5d060ea-7374-4a06-a87b-ee4feb65e607"
      },
      "source": [
        "address = re.findall('(mipt-node\\S+)\\/', log)\n",
        "print(address[0])"
      ],
      "execution_count": null,
      "outputs": [
        {
          "output_type": "stream",
          "name": "stdout",
          "text": [
            "mipt-node01.atp-fivt.org\n"
          ]
        }
      ]
    },
    {
      "cell_type": "markdown",
      "metadata": {
        "id": "401rDj_W80TM"
      },
      "source": [
        "## Парсинг страницы"
      ]
    },
    {
      "cell_type": "markdown",
      "metadata": {
        "id": "uLYoWB4u80TM"
      },
      "source": [
        "В этом разделе мы будем решать одну из наиболее распространённых задач: парсить веб-страницу. Для начала посмотрим на сам файл."
      ]
    },
    {
      "cell_type": "code",
      "metadata": {
        "colab": {
          "base_uri": "https://localhost:8080/"
        },
        "id": "0R23HZYw80TN",
        "outputId": "342ec738-ef55-4d85-8966-71743381cc53"
      },
      "source": [
        "html = \"\"\n",
        "with open('regexp/example.html', 'r') as html_file:\n",
        "  html = html_file.read()\n",
        "print(html)"
      ],
      "execution_count": null,
      "outputs": [
        {
          "output_type": "stream",
          "name": "stdout",
          "text": [
            "<!DOCTYPE html>\n",
            "<html>\n",
            "<head>\n",
            "    <title>Example Domain</title>\n",
            "    <meta charset=\"utf-8\">\n",
            "    <style type=\"text/css\">\n",
            "    div {\n",
            "        width: 600px;\n",
            "        margin: 5em auto;\n",
            "        padding: 2em;\n",
            "        background-color: #fdfdff;\n",
            "        border-radius: 0.5em;\n",
            "        box-shadow: 2px 3px 7px 2px rgba(0,0,0,0.02);\n",
            "    }\n",
            "    a:link, a:visited {\n",
            "        color: #38488f;\n",
            "        text-decoration: none;\n",
            "    }\n",
            "    </style>    \n",
            "</head>\n",
            "<body class=\"vsc-initialized\">\n",
            "<div>\n",
            "    <h1>Example Domain</h1>\n",
            "    <h2>Some subheading containing example subdomain</h2>\n",
            "    <p><a href=\"https://www.iana.org/domains/example\">More information...</a></p>\n",
            "    <p><span>C:\\log.txt</span><span>File is located at C:\\Users\\Arslan\\Documents\\report.doc</span></p>\n",
            "    <h2>Another subheading related to domain</h2>\n",
            "    <h3>Broken heading</h2>\n",
            "    <p>Another paragraph</p>\n",
            "    <p>Some inspirational quoter</p><p>Same line paragraph</p>\n",
            "    <table>\n",
            "        <tr><th>Good</th><th>Price</th></tr>\n",
            "        <tr><td>Coal</td><td>1$</td></tr>\n",
            "        <tr><td>Wool</td><td>2.50$</td></tr>\n",
            "    </table>\n",
            "    <p>US zip-code is a just five digit number. Here are ranges for some states: Arizona 85001 thru 85055, Arkansas 72201 thru 72217 California 94203 thru 90213, Colorado 80201 thru 80239. </p>\n",
            "    <p>Here are some IP ranges of Megafon:</p>\n",
            "    <ul>\n",
            "        <li>31.173.128.0 - 31.173.128.255</li>\n",
            "        <li>188.170.162.0 - 188.170.162.255</li>\n",
            "        <li>85.26.175.0 - 85.26.175.255</li>\n",
            "        <li>1111.0.0.3 - 000.000.000.9999</li>\n",
            "        <li>0.0.0.0 - 255.255.255.255</li>\n",
            "    </ul>\n",
            "    <p>For default dns server we recommend using 1.1.1.1 or 8.8.8.8</p>\n",
            "    <p>And some phone numbers from Tatarstan</p>\n",
            "    <ul>\n",
            "            <li>240-01-08</li>\n",
            "            <li>(843)567-15-67</li>\n",
            "            <li>(843)200-11-11</li>\n",
            "            <li>240-01-08</li>\n",
            "    </ul>\n",
            "</div>\n",
            "\n",
            "\n",
            "</body></html>\n"
          ]
        }
      ]
    },
    {
      "cell_type": "markdown",
      "metadata": {
        "id": "Okj6DKuZ80TN"
      },
      "source": [
        "## Базовые примитивы\n",
        "\n",
        "Наверняка вы пользовались поиском файлов в своей любимой операционной системе. Когда вы хотели найти все скрипты, можно была написать что-то вроде ``*.py``. А если вам нужны были все номерные части \"Шрека\", то ``Shrek?.mp4``. При этом ``*`` означала произвольное количество вхождений какого-то символа, а ``?`` ровно одно. "
      ]
    },
    {
      "cell_type": "markdown",
      "metadata": {
        "id": "-6yFdm9J80TN"
      },
      "source": [
        "В синтаксисе регулярных выражений ``.`` означает произвольный символ.Также есть квантификаторы: ``*`` его повторение произвольное число раз. ``+`` используется, если повторение должно быть хотя бы одно, ``?`` означает 0 или 1 вхождение."
      ]
    },
    {
      "cell_type": "markdown",
      "metadata": {
        "id": "yyUZ-dW480TN"
      },
      "source": [
        "### Скобки"
      ]
    },
    {
      "cell_type": "markdown",
      "metadata": {
        "id": "E58d3Sk080TO"
      },
      "source": [
        "Для удобного разбиения на части выражения применяются скобки. Более того, мы можем обращаться к содержимому каждой пары скобок по номеру (нумеруются пары в порядке открытия). Содержимое скобок также называется группой захвата. \n",
        "\n",
        "Давайте начнём с простого: получим заголовок нашей страницы. Метод `findall` вернёт все вхождения группы в виде списка. Чтобы решить нашу задачу, просто создадим группу захвата, отвечающую содержимому внутри тега `<title>`."
      ]
    },
    {
      "cell_type": "code",
      "metadata": {
        "colab": {
          "base_uri": "https://localhost:8080/"
        },
        "id": "9_w33pN-80TP",
        "outputId": "2b71636a-5cfa-4dd1-816c-729da5826046"
      },
      "source": [
        "address = re.findall('<title>(.*)</title>', html)\n",
        "print(address)"
      ],
      "execution_count": null,
      "outputs": [
        {
          "output_type": "stream",
          "name": "stdout",
          "text": [
            "['Example Domain']\n"
          ]
        }
      ]
    },
    {
      "cell_type": "markdown",
      "metadata": {
        "id": "NVcrevDM80TP"
      },
      "source": [
        "### Упражнение 1\n",
        "\n",
        "Получите кодировку страницы."
      ]
    },
    {
      "cell_type": "code",
      "metadata": {
        "colab": {
          "base_uri": "https://localhost:8080/",
          "height": 186
        },
        "id": "7m87KfoJ80TQ",
        "outputId": "8afaa688-adbe-4a0d-806f-3c9a947a96f7"
      },
      "source": [
        "charset = re.findall('your code here', html)\n",
        "print(charset)"
      ],
      "execution_count": 1,
      "outputs": [
        {
          "output_type": "error",
          "ename": "NameError",
          "evalue": "ignored",
          "traceback": [
            "\u001b[0;31m---------------------------------------------------------------------------\u001b[0m",
            "\u001b[0;31mNameError\u001b[0m                                 Traceback (most recent call last)",
            "\u001b[0;32m<ipython-input-1-76f653bd9265>\u001b[0m in \u001b[0;36m<module>\u001b[0;34m\u001b[0m\n\u001b[0;32m----> 1\u001b[0;31m \u001b[0mcharset\u001b[0m \u001b[0;34m=\u001b[0m \u001b[0mre\u001b[0m\u001b[0;34m.\u001b[0m\u001b[0mfindall\u001b[0m\u001b[0;34m(\u001b[0m\u001b[0;34m'your code here'\u001b[0m\u001b[0;34m,\u001b[0m \u001b[0mhtml\u001b[0m\u001b[0;34m)\u001b[0m\u001b[0;34m\u001b[0m\u001b[0;34m\u001b[0m\u001b[0m\n\u001b[0m\u001b[1;32m      2\u001b[0m \u001b[0mprint\u001b[0m\u001b[0;34m(\u001b[0m\u001b[0mcharset\u001b[0m\u001b[0;34m)\u001b[0m\u001b[0;34m\u001b[0m\u001b[0;34m\u001b[0m\u001b[0m\n",
            "\u001b[0;31mNameError\u001b[0m: name 're' is not defined"
          ]
        }
      ]
    },
    {
      "cell_type": "markdown",
      "metadata": {
        "id": "KE0M5oGH80TQ"
      },
      "source": [
        "### Ленивые и жадные квантификаторы"
      ]
    },
    {
      "cell_type": "markdown",
      "metadata": {
        "id": "JUTslull80TR"
      },
      "source": [
        "Давайте теперь попробуем получить содержимое всех параграфов (они обозначаются тегом ``<p>``)."
      ]
    },
    {
      "cell_type": "code",
      "metadata": {
        "colab": {
          "base_uri": "https://localhost:8080/"
        },
        "id": "GL1C-gy780TR",
        "outputId": "6a8cf95f-6dfe-4f04-ba80-61eb4d777399"
      },
      "source": [
        "paragraphs = re.findall('<p>(.*)</p>', html)\n",
        "print(paragraphs)"
      ],
      "execution_count": null,
      "outputs": [
        {
          "output_type": "stream",
          "name": "stdout",
          "text": [
            "['<a href=\"https://www.iana.org/domains/example\">More information...</a>', '<span>C:\\\\log.txt</span><span>File is located at C:\\\\Users\\\\Arslan\\\\Documents\\\\report.doc</span>', 'Another paragraph', 'Some inspirational quoter</p><p>Same line paragraph', 'US zip-code is a just five digit number. Here are ranges for some states: Arizona 85001 thru 85055, Arkansas 72201 thru 72217 California 94203 thru 90213, Colorado 80201 thru 80239. ', 'Here are some IP ranges of Megafon:', 'For default dns server we recommend using 1.1.1.1 or 8.8.8.8', 'And some phone numbers from Tatarstan']\n"
          ]
        }
      ]
    },
    {
      "cell_type": "markdown",
      "metadata": {
        "id": "sRJCZV5J80TR"
      },
      "source": [
        "Всё ли распарсилось так, как мы хотели? Немного изменим выражение."
      ]
    },
    {
      "cell_type": "code",
      "metadata": {
        "colab": {
          "base_uri": "https://localhost:8080/"
        },
        "id": "_4BomTUx80TS",
        "outputId": "fe429814-8926-4789-da68-ec8bac11d27d"
      },
      "source": [
        "paragraphs = re.findall('<p>(.*?)</p>', html)\n",
        "print(paragraphs)"
      ],
      "execution_count": null,
      "outputs": [
        {
          "output_type": "stream",
          "name": "stdout",
          "text": [
            "['<a href=\"https://www.iana.org/domains/example\">More information...</a>', '<span>C:\\\\log.txt</span><span>File is located at C:\\\\Users\\\\Arslan\\\\Documents\\\\report.doc</span>', 'Another paragraph', 'Some inspirational quoter', 'Same line paragraph', 'US zip-code is a just five digit number. Here are ranges for some states: Arizona 85001 thru 85055, Arkansas 72201 thru 72217 California 94203 thru 90213, Colorado 80201 thru 80239. ', 'Here are some IP ranges of Megafon:', 'For default dns server we recommend using 1.1.1.1 or 8.8.8.8', 'And some phone numbers from Tatarstan']\n"
          ]
        }
      ]
    },
    {
      "cell_type": "markdown",
      "metadata": {
        "id": "pimnOdfk80TS"
      },
      "source": [
        "В чём же было дело? По умолчанию ``.*`` пытается найти самое длинное совпадение при условии выполнения остальной части выражения. Часто, как например при работе с XML-подобными форматами, нам наоборот хочется найти наиболее короткое совпадение. Обычные квантификаторы, ищущие самое длинное совпадние, ``*`` и ``+`` называют жадными, у них есть ленивые версии ``*?`` и ``+?``. "
      ]
    },
    {
      "cell_type": "markdown",
      "metadata": {
        "id": "KaD66cqW80TS"
      },
      "source": [
        "### Упражнение 2"
      ]
    },
    {
      "cell_type": "markdown",
      "metadata": {
        "id": "JnWYcFnb80TS"
      },
      "source": [
        "Выведите все строки таблицы (содержимое тегов ``<tr>``)."
      ]
    },
    {
      "cell_type": "code",
      "metadata": {
        "colab": {
          "base_uri": "https://localhost:8080/"
        },
        "id": "Wz5tYWGE80TT",
        "outputId": "c28f59a5-da1d-43ee-83b0-2ab1b7a391ce"
      },
      "source": [
        "rows = re.findall('your code here', html)\n",
        "print(rows)"
      ],
      "execution_count": null,
      "outputs": [
        {
          "output_type": "stream",
          "name": "stdout",
          "text": [
            "[]\n"
          ]
        }
      ]
    },
    {
      "cell_type": "markdown",
      "metadata": {
        "id": "NZVOzCpo80TT"
      },
      "source": [
        "### Несколько групп захвата"
      ]
    },
    {
      "cell_type": "markdown",
      "metadata": {
        "id": "U22VAV--80TU"
      },
      "source": [
        "Допустим, мы хотим распарсить таблицу глубже, а именно для каждой строки получить массив основ. Для этого мы можем просто использовать несколько групп захвата в одном выражении."
      ]
    },
    {
      "cell_type": "code",
      "metadata": {
        "colab": {
          "base_uri": "https://localhost:8080/"
        },
        "id": "D6JZhEeD80TV",
        "outputId": "e98f92c9-3642-4b72-ba17-86d33c5f3364"
      },
      "source": [
        "rows = re.findall('<tr><td>(.*?)</td><td>(.*?)</td></tr>', html)\n",
        "print(rows)"
      ],
      "execution_count": null,
      "outputs": [
        {
          "output_type": "stream",
          "name": "stdout",
          "text": [
            "[('Coal', '1$'), ('Wool', '2.50$')]\n"
          ]
        }
      ]
    },
    {
      "cell_type": "markdown",
      "metadata": {
        "id": "htw7LfRT80TV"
      },
      "source": [
        "Как видим, вполне ожидаемо вернулся двумерный массив. Что будет, если не использовать ленивые квантификаторы?"
      ]
    },
    {
      "cell_type": "markdown",
      "metadata": {
        "id": "HGy3422i80TV"
      },
      "source": [
        "### Экранирование"
      ]
    },
    {
      "cell_type": "markdown",
      "metadata": {
        "id": "hfSoX1QU80TV"
      },
      "source": [
        "Некоторые символы в синтаксисе зарезервированы как специальные: `.`, `?` и другие. Если мы хотим их использовать в прямом смысле внутри нашего выражения, надо писать ``\\`` перед ними т. е. экранировать. Проблема: ``\\`` используется для экранирования и в регулярных выражениях, и в питоновских строках. Чтобы это обойти, надо перед выражением писать ``r``. Поэтому если мы хотим получить пути к файлу внутри диска без буквы диска, надо всем этим воспользоваться."
      ]
    },
    {
      "cell_type": "code",
      "metadata": {
        "colab": {
          "base_uri": "https://localhost:8080/"
        },
        "id": "6YxMMwsn80TW",
        "outputId": "3d038dc5-86e0-4321-a5a8-d32312eddeaa"
      },
      "source": [
        "paths = re.findall(r'<span>C:\\\\(.*?)</span>', html) \n",
        "print(paths)"
      ],
      "execution_count": null,
      "outputs": [
        {
          "output_type": "stream",
          "name": "stdout",
          "text": [
            "['log.txt']\n"
          ]
        }
      ]
    },
    {
      "cell_type": "markdown",
      "metadata": {
        "id": "JtrcAyOe80TX"
      },
      "source": [
        "Второй путь не нашёлся. Почему?\n",
        "\n",
        "``<p><span>C:\\log.txt</span><span>File is located at C:\\Users\\Arslan\\Documents\\report.doc</span></p>``\n",
        "\n"
      ]
    },
    {
      "cell_type": "markdown",
      "metadata": {
        "id": "xGcWC7Wk80TX"
      },
      "source": [
        "## Основные инструменты"
      ]
    },
    {
      "cell_type": "markdown",
      "metadata": {
        "id": "sN6rt4BO80TX"
      },
      "source": [
        "### Пропуск вхождения"
      ]
    },
    {
      "cell_type": "markdown",
      "metadata": {
        "id": "mKf5Q2J_80TX"
      },
      "source": [
        "Как мы хотим разобраться с проблемой? Нам бы помогло создание групп захвата, которые бы пропускали все символы внутри тега ``<span>``. Но при этом мы не хотим засорять массив совпадений. И у нас есть такая возможность. Достаточно написать ``?:`` в начале выражения в скобках."
      ]
    },
    {
      "cell_type": "code",
      "metadata": {
        "colab": {
          "base_uri": "https://localhost:8080/"
        },
        "id": "Nx-D8t4280TY",
        "outputId": "b7133f1a-9731-4341-d9ad-9fa0eaf883df"
      },
      "source": [
        "paths = re.findall(r'<span>(?:.*?)C:\\\\(.*?)</span>', html) \n",
        "print(paths)"
      ],
      "execution_count": null,
      "outputs": [
        {
          "output_type": "stream",
          "name": "stdout",
          "text": [
            "['log.txt', 'Users\\\\Arslan\\\\Documents\\\\report.doc']\n"
          ]
        }
      ]
    },
    {
      "cell_type": "markdown",
      "metadata": {
        "id": "z1a8jGze80TY"
      },
      "source": [
        "### Выбор одного из символов"
      ]
    },
    {
      "cell_type": "markdown",
      "metadata": {
        "id": "_iNBMdHz80TZ"
      },
      "source": [
        "Допустим мы хотим выбрать все заголовки. Для этого нам пригодятся квадратные скобки. Внутри них можно задать символ, с одним из которых должно случиться совпадение. ``^`` в начале квадратных скобок означает выбор одного из символов, в них не перечисленных. Есть стандартные диапазона ``a-z``, ``0-9`` и другие."
      ]
    },
    {
      "cell_type": "code",
      "metadata": {
        "colab": {
          "base_uri": "https://localhost:8080/"
        },
        "id": "b6zox-uv80TZ",
        "outputId": "6b8b39a7-2343-4e8c-f71f-a901715e96c3"
      },
      "source": [
        "headings = re.findall(r'<h[1-6]>(.*?)</h[1-6]>', html) \n",
        "print(headings)"
      ],
      "execution_count": null,
      "outputs": [
        {
          "output_type": "stream",
          "name": "stdout",
          "text": [
            "['Example Domain', 'Some subheading containing example subdomain', 'Another subheading related to domain', 'Broken heading']\n"
          ]
        }
      ]
    },
    {
      "cell_type": "markdown",
      "metadata": {
        "id": "EFtbfmix80Ta"
      },
      "source": [
        "### Стандартные классы и дополнительные квантификаторы"
      ]
    },
    {
      "cell_type": "markdown",
      "metadata": {
        "id": "9pybiAOO80Ta"
      },
      "source": [
        "Допустим мы хотим выбрать из текста все zip-коды (считаем, что это просто 5-значные числа). Для обозначения цифр есть стандартный класс символов ``\\d``, для обозначения повторения от x до y раз -- квантификатор ``{x,y}``. Подробнее разные классы можно почитать в документации."
      ]
    },
    {
      "cell_type": "code",
      "metadata": {
        "colab": {
          "base_uri": "https://localhost:8080/"
        },
        "id": "oM5meb7m80Ta",
        "outputId": "0e891389-2b19-4f3a-f0df-ae8a87d3d5af"
      },
      "source": [
        "texts = re.findall(r'\\d{5}', html)\n",
        "print(texts)"
      ],
      "execution_count": null,
      "outputs": [
        {
          "output_type": "stream",
          "name": "stdout",
          "text": [
            "['38488', '85001', '85055', '72201', '72217', '94203', '90213', '80201', '80239']\n"
          ]
        }
      ]
    },
    {
      "cell_type": "markdown",
      "metadata": {
        "id": "4RO17pZz80Tb"
      },
      "source": [
        "### Упражнение 3"
      ]
    },
    {
      "cell_type": "markdown",
      "metadata": {
        "id": "34IRz2GV80Tb"
      },
      "source": [
        "Выведите номера телефонов. Не забудьте о том, что часть из них содержит код города."
      ]
    },
    {
      "cell_type": "code",
      "metadata": {
        "colab": {
          "base_uri": "https://localhost:8080/"
        },
        "id": "Wu852oPG80Tb",
        "outputId": "ff550a5d-76e0-4ffe-f1e6-723b3381f705"
      },
      "source": [
        "phones = re.findall(r'your code here', html)\n",
        "print(phones)"
      ],
      "execution_count": null,
      "outputs": [
        {
          "output_type": "stream",
          "text": [
            "[]\n"
          ],
          "name": "stdout"
        }
      ]
    },
    {
      "cell_type": "markdown",
      "metadata": {
        "id": "UIIDvSz780Tc"
      },
      "source": [
        "### Альтернативы"
      ]
    },
    {
      "cell_type": "markdown",
      "metadata": {
        "id": "aIVGjJyr80Td"
      },
      "source": [
        "Через ``|`` можно перечислять альтернативные части выражения. Понятно, что по возможности стоит использовать предыдущую конструкцию в силу её большей произодительности. Для примера выберем все фразы односящийся к доменам и заголовкам."
      ]
    },
    {
      "cell_type": "code",
      "metadata": {
        "colab": {
          "base_uri": "https://localhost:8080/"
        },
        "id": "jTpC3cd880Td",
        "outputId": "f83a2f18-a66e-4ddb-904c-91a83d1bc923"
      },
      "source": [
        "texts = re.findall(r'((?:sub)?(?:heading|domain))', html) \n",
        "print(texts)"
      ],
      "execution_count": null,
      "outputs": [
        {
          "output_type": "stream",
          "text": [
            "['subheading', 'subdomain', 'domain', 'subheading', 'domain', 'heading']\n"
          ],
          "name": "stdout"
        }
      ]
    },
    {
      "cell_type": "markdown",
      "metadata": {
        "id": "gGpFnBBG80Td"
      },
      "source": [
        "А теперь посмотрите аккуратно на файл и поймите, что мы распарсили невалидный заголовок. Обычно это хорошее решение, но что если мы хотим игнорировать такие случаи?"
      ]
    },
    {
      "cell_type": "markdown",
      "metadata": {
        "id": "TPTKfINE80Td"
      },
      "source": [
        "### Обращение к группам скобок"
      ]
    },
    {
      "cell_type": "code",
      "metadata": {
        "colab": {
          "base_uri": "https://localhost:8080/"
        },
        "id": "g7bReibI80Td",
        "outputId": "84147f39-bcfb-4973-9426-cf2d28478550"
      },
      "source": [
        "headings = re.findall(r'<h([1-6])>(.*?)</h(\\1)>', html)\n",
        "print(headings)"
      ],
      "execution_count": null,
      "outputs": [
        {
          "output_type": "stream",
          "name": "stdout",
          "text": [
            "[('1', 'Example Domain', '1'), ('2', 'Some subheading containing example subdomain', '2'), ('2', 'Another subheading related to domain', '2')]\n"
          ]
        }
      ]
    },
    {
      "cell_type": "markdown",
      "metadata": {
        "id": "ulfoHDJz80Te"
      },
      "source": [
        "По ``\\i`` можно обращаться к i-ой паре скобок из самого выражения. Правда, теперь мы захватываем лишний текст, но что поделать. Ещё группы можно называть, если писать ``?P<name>`` в начале скобок."
      ]
    },
    {
      "cell_type": "code",
      "metadata": {
        "colab": {
          "base_uri": "https://localhost:8080/"
        },
        "id": "wBV-PFeQ80Te",
        "outputId": "68fe2edf-d764-4f46-a5f9-aab418fcbcd1"
      },
      "source": [
        "row = re.search('<tr><td>(?P<good>.*?)</td><td>(?P<price>.*?)</td></tr>', html).groupdict()\n",
        "print(row)"
      ],
      "execution_count": null,
      "outputs": [
        {
          "output_type": "stream",
          "text": [
            "{'good': 'Coal', 'price': '1$'}\n"
          ],
          "name": "stdout"
        }
      ]
    },
    {
      "cell_type": "markdown",
      "metadata": {
        "id": "LDZEZUau80Te"
      },
      "source": [
        "### Упражнение 4"
      ]
    },
    {
      "cell_type": "markdown",
      "metadata": {
        "id": "eLOSwemv80Tf"
      },
      "source": [
        "Обрамите все zip-коды в тег ``<i>`` и выведите изменённый html."
      ]
    },
    {
      "cell_type": "code",
      "metadata": {
        "colab": {
          "base_uri": "https://localhost:8080/"
        },
        "id": "pw3ufKjr80Tf",
        "outputId": "0a97a605-ce54-445f-c8d4-7f39ab598c63"
      },
      "source": [
        "new_html = re.sub(r'your code here', r'your code here', html)\n",
        "print(new_html)"
      ],
      "execution_count": null,
      "outputs": [
        {
          "output_type": "stream",
          "text": [
            "<!DOCTYPE html>\n",
            "<html>\n",
            "<head>\n",
            "    <title>Example Domain</title>\n",
            "    <meta charset=\"utf-8\">\n",
            "    <style type=\"text/css\">\n",
            "    div {\n",
            "        width: 600px;\n",
            "        margin: 5em auto;\n",
            "        padding: 2em;\n",
            "        background-color: #fdfdff;\n",
            "        border-radius: 0.5em;\n",
            "        box-shadow: 2px 3px 7px 2px rgba(0,0,0,0.02);\n",
            "    }\n",
            "    a:link, a:visited {\n",
            "        color: #38488f;\n",
            "        text-decoration: none;\n",
            "    }\n",
            "    </style>    \n",
            "</head>\n",
            "<body class=\"vsc-initialized\">\n",
            "<div>\n",
            "    <h1>Example Domain</h1>\n",
            "    <h2>Some subheading containing example subdomain</h2>\n",
            "    <p><a href=\"https://www.iana.org/domains/example\">More information...</a></p>\n",
            "    <p><span>C:\\log.txt</span><span>File is located at C:\\Users\\Arslan\\Documents\\report.doc</span></p>\n",
            "    <h2>Another subheading related to domain</h2>\n",
            "    <h3>Broken heading</h2>\n",
            "    <p>Another paragraph</p>\n",
            "    <p>Some inspirational quoter</p><p>Same line paragraph</p>\n",
            "    <table>\n",
            "        <tr><th>Good</th><th>Price</th></tr>\n",
            "        <tr><td>Coal</td><td>1$</td></tr>\n",
            "        <tr><td>Wool</td><td>2.50$</td></tr>\n",
            "    </table>\n",
            "    <p>US zip-code is a just five digit number. Here are ranges for some states: Arizona <i>85001</i> thru <i>85055</i>, Arkansas <i>72201</i> thru <i>72217</i> California <i>94203</i> thru <i>90213</i>, Colorado <i>80201</i> thru <i>80239</i>. </p>\n",
            "    <p>Here are some IP ranges of Megafon:</p>\n",
            "    <ul>\n",
            "        <li>31.173.128.0 - 31.173.128.255</li>\n",
            "        <li>188.170.162.0 - 188.170.162.255</li>\n",
            "        <li>85.26.175.0 - 85.26.175.255</li>\n",
            "        <li>1111.0.0.3 - 000.000.000.9999</li>\n",
            "        <li>0.0.0.0 - 255.255.255.255</li>\n",
            "    </ul>\n",
            "    <p>For default dns server we recommend using 1.1.1.1 or 8.8.8.8</p>\n",
            "    <p>And some phone numbers from Tatarstan</p>\n",
            "    <ul>\n",
            "            <li>240-01-08</li>\n",
            "            <li>(843)567-15-67</li>\n",
            "            <li>(843)200-11-11</li>\n",
            "            <li>240-01-08</li>\n",
            "    </ul>\n",
            "</div>\n",
            "\n",
            "\n",
            "</body></html>\n"
          ],
          "name": "stdout"
        }
      ]
    },
    {
      "cell_type": "markdown",
      "metadata": {
        "id": "qpMaXkO380Tf"
      },
      "source": [
        "## Выделение IP-адресов"
      ]
    },
    {
      "cell_type": "markdown",
      "metadata": {
        "id": "A8vW50CO80To"
      },
      "source": [
        "Чтобы вы не думали, что всё так просто, давайте поговорим о такой популярной задаче, как выделение IP-адресов и рассмотрим несколько подходов к его решению."
      ]
    },
    {
      "cell_type": "markdown",
      "metadata": {
        "id": "_Cmd4_HM80Tp"
      },
      "source": [
        "### Упражнение 5"
      ]
    },
    {
      "cell_type": "markdown",
      "metadata": {
        "id": "auz0iFOg80Tq"
      },
      "source": [
        "Напишите свою реализацию"
      ]
    },
    {
      "cell_type": "code",
      "metadata": {
        "id": "EEGfmspD80Tq",
        "colab": {
          "base_uri": "https://localhost:8080/"
        },
        "outputId": "cd22ca9f-a62c-4d8e-f23b-3dcc657840f9"
      },
      "source": [
        "address = re.findall('your code here', html)\n",
        "print(address)"
      ],
      "execution_count": null,
      "outputs": [
        {
          "output_type": "stream",
          "text": [
            "[]\n"
          ],
          "name": "stdout"
        }
      ]
    },
    {
      "cell_type": "markdown",
      "metadata": {
        "id": "BPGbOwaW80Tq"
      },
      "source": [
        "Посмотрите на вывод. Всё ли хорошо?"
      ]
    },
    {
      "cell_type": "markdown",
      "metadata": {
        "id": "a0Axxo6c80Tq"
      },
      "source": [
        "### Наивное решение"
      ]
    },
    {
      "cell_type": "markdown",
      "metadata": {
        "id": "IzYYIcNF80Tq"
      },
      "source": [
        "Считаем, что IP это просто последовательность 4 чисел, разделённых точкой."
      ]
    },
    {
      "cell_type": "code",
      "metadata": {
        "id": "dA3_NGmJ80Tr",
        "colab": {
          "base_uri": "https://localhost:8080/"
        },
        "outputId": "cb65ae21-a41a-48fc-f096-f31bc6f78699"
      },
      "source": [
        "address = re.findall('(\\d+\\.\\d+\\.\\d+.\\d+)', html)\n",
        "print(address)"
      ],
      "execution_count": null,
      "outputs": [
        {
          "output_type": "stream",
          "name": "stdout",
          "text": [
            "['31.173.128.0', '31.173.128.255', '188.170.162.0', '188.170.162.255', '85.26.175.0', '85.26.175.255', '1111.0.0.3', '000.000.000.9999', '0.0.0.0', '255.255.255.255', '1.1.1.1', '8.8.8.8']\n"
          ]
        }
      ]
    },
    {
      "cell_type": "markdown",
      "metadata": {
        "id": "XAksytzm80Tr"
      },
      "source": [
        "### Количество цифр"
      ]
    },
    {
      "cell_type": "markdown",
      "metadata": {
        "id": "R6Qaq31080Tr"
      },
      "source": [
        "Вспоминаем, что цифр в октете не просто ненулевое количество,а от 1 до 3."
      ]
    },
    {
      "cell_type": "code",
      "metadata": {
        "id": "G-x9i88w80Ts",
        "colab": {
          "base_uri": "https://localhost:8080/"
        },
        "outputId": "eb51c71d-4243-485b-beb9-48cae6c0468f"
      },
      "source": [
        "address = re.findall('(\\d{1,3}\\.\\d{1,3}\\.\\d{1,3}.\\d{1,3})', html)\n",
        "print(address)"
      ],
      "execution_count": null,
      "outputs": [
        {
          "output_type": "stream",
          "name": "stdout",
          "text": [
            "['31.173.128.0', '31.173.128.255', '188.170.162.0', '188.170.162.255', '85.26.175.0', '85.26.175.255', '111.0.0.3', '000.000.000.999', '0.0.0.0', '255.255.255.255', '1.1.1.1', '8.8.8.8']\n"
          ]
        }
      ]
    },
    {
      "cell_type": "markdown",
      "metadata": {
        "id": "56mEzjfp80Ts"
      },
      "source": [
        "### Обрамление"
      ]
    },
    {
      "cell_type": "markdown",
      "metadata": {
        "id": "aiwu-4jR80Ts"
      },
      "source": [
        "С обоих сторон от не цифр должны находиться не цифры."
      ]
    },
    {
      "cell_type": "code",
      "metadata": {
        "id": "b0GETVe580Ts",
        "colab": {
          "base_uri": "https://localhost:8080/"
        },
        "outputId": "b13a7721-da2b-4fc1-c77d-a1e2410600b8"
      },
      "source": [
        "address = re.findall('\\D(\\d{1,3}\\.\\d{1,3}\\.\\d{1,3}.\\d{1,3})\\D', html) \n",
        "print(address)"
      ],
      "execution_count": null,
      "outputs": [
        {
          "output_type": "stream",
          "text": [
            "['31.173.128.0', '31.173.128.255', '188.170.162.0', '188.170.162.255', '85.26.175.0', '85.26.175.255', '000.000.000', '0.0.0.0', '255.255.255.255', '1.1.1.1', '8.8.8.8']\n"
          ],
          "name": "stdout"
        }
      ]
    },
    {
      "cell_type": "markdown",
      "metadata": {
        "id": "QtR3UqdS80Ts"
      },
      "source": [
        "### Границы адресов"
      ]
    },
    {
      "cell_type": "markdown",
      "metadata": {
        "id": "uEoIEDPK80Tt"
      },
      "source": [
        "Теперь нужно учтём, что октеты могут быть от 0 до 255."
      ]
    },
    {
      "cell_type": "code",
      "metadata": {
        "id": "Z-Gn0D2i80Tt",
        "colab": {
          "base_uri": "https://localhost:8080/"
        },
        "outputId": "e4f338d0-2cff-4716-97a2-aef35aeebd73"
      },
      "source": [
        "ip_regex = \"\"\"\\D((?:[01]?\\d\\d?|2[0-4]\\d|25[0-5])\n",
        "              \\.(?:[01]?\\d\\d?|2[0-4]\\d|25[0-5])\n",
        "              \\.(?:[01]?\\d\\d?|2[0-4]\\d|25[0-5])\n",
        "              \\.(?:[01]?\\d\\d?|2[0-4]\\d|25[0-5]))\\D\"\"\"\n",
        "address = re.findall(ip_regex, html, re.X) \n",
        "print(address)"
      ],
      "execution_count": null,
      "outputs": [
        {
          "output_type": "stream",
          "name": "stdout",
          "text": [
            "['31.173.128.0', '31.173.128.255', '188.170.162.0', '188.170.162.255', '85.26.175.0', '85.26.175.255', '0.0.0.0', '255.255.255.255', '1.1.1.1', '8.8.8.8']\n"
          ]
        }
      ]
    },
    {
      "cell_type": "markdown",
      "metadata": {
        "id": "RUx_W_s380Tu"
      },
      "source": [
        "Победа? На самом деле нет. Адреса 0.0.0.0 и 255.255.255.255 служебные, их учитывать не надо. Да и так выражение кажется уже крайне громоздким. Спасает разнесение выражение на несколько строк. Для его использования надо передать флаг ``re.X``.\n",
        "\n",
        "**При конструировании регулярных выражений важно найти разумный баланс между сложностью выражения и полнотой его покрытия**"
      ]
    },
    {
      "cell_type": "markdown",
      "metadata": {
        "id": "YrUhRSK_80Tu"
      },
      "source": [
        "## Выводы"
      ]
    },
    {
      "cell_type": "markdown",
      "metadata": {
        "id": "TPsdkbrG80Tu"
      },
      "source": [
        "Регулярные выражения это мощный и красивый инструмент для работы со строками. Хотя основы крайне просты, на то, чтобы стать мастером в этом деле, могут уйти годы. К счастью, для большинства бытовых случаев хватает изложенных выше конструкций. Но если вы хотите углубить свои познания, крайне рекомендую вам прочитать книжку из списка ниже."
      ]
    },
    {
      "cell_type": "markdown",
      "metadata": {
        "id": "9VlQysrq80Tv"
      },
      "source": [
        "## Ссылки"
      ]
    },
    {
      "cell_type": "markdown",
      "metadata": {
        "id": "2V7XvUMF80Tw"
      },
      "source": [
        "**Mastering Regular Expressions, 3rd edition by Jeffrey Friedl** -- главная книга о регулярных выражениях для тех, кто хочет максимально погрузиться в тему.\n",
        "\n",
        "[Regex tester](https://regex101.com)\n",
        "\n",
        "[Regex crossword](https://regexcrossword.com/)\n",
        "\n",
        "[Шпаргалка от MIT](http://web.mit.edu/hackl/www/lab/turkshop/slides/regex-cheatsheet.pdf)\n",
        "\n",
        "[Документация по работе с регулярными выражениями в Python](https://docs.python.org/3/library/re.html)\n",
        "\n",
        "[Подробнее про квантификаторы](https://www.rexegg.com/regex-quantifiers.html)\n",
        "\n",
        "[@ihateacm](https://t.me/ihateacm) мой телеграм, пишите если нашли в этом ноутбуке опечатки или другие неточности"
      ]
    }
  ]
}